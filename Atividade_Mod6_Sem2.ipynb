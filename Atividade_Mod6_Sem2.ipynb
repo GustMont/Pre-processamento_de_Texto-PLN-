{
  "nbformat": 4,
  "nbformat_minor": 0,
  "metadata": {
    "colab": {
      "provenance": [],
      "authorship_tag": "ABX9TyOG3+rZ1qACoToMwuQfTITi",
      "include_colab_link": true
    },
    "kernelspec": {
      "name": "python3",
      "display_name": "Python 3"
    },
    "language_info": {
      "name": "python"
    }
  },
  "cells": [
    {
      "cell_type": "markdown",
      "metadata": {
        "id": "view-in-github",
        "colab_type": "text"
      },
      "source": [
        "<a href=\"https://colab.research.google.com/github/GustMont/Pre-processamento_de_Texto-PLN-/blob/main/Atividade_Mod6_Sem2.ipynb\" target=\"_parent\"><img src=\"https://colab.research.google.com/assets/colab-badge.svg\" alt=\"Open In Colab\"/></a>"
      ]
    },
    {
      "cell_type": "markdown",
      "source": [
        "\n",
        "## ATIVIDADE: Pré-processamento de texto em Python\n",
        "Selecione 3 técnicas de pré processamento de textos e 10 frases da base de dados do projeto (combine com seu grupo para não usarem as mesmas frases). Organize o código python no Google Colab mostrando o resultado de cada técnica de pré-processamento. Adicione uma explicação para cada técnica de pré-processamento. Monte um pipeline de pré-processamento e apresente o resultado final. Ao menos uma técnica de pré-processamento deve ser implementada \"from scratch\" (sem o uso de biblioteca). Envie o link do Google Colab na Adalove. O link deve ter acesso liberado para o professor.\n",
        "\n",
        "# Aluno: Gustavo Monteiro - Sistemas de Informação"
      ],
      "metadata": {
        "id": "tsn7orWlzlXj"
      }
    },
    {
      "cell_type": "markdown",
      "source": [
        "# Importando bibliotecas"
      ],
      "metadata": {
        "id": "a55fmcMUy16l"
      }
    },
    {
      "cell_type": "code",
      "source": [
        "# Importações de bibliotecas\n",
        "!pip install nltk\n",
        "import nltk"
      ],
      "metadata": {
        "id": "Yfrr99cDDQt7",
        "colab": {
          "base_uri": "https://localhost:8080/"
        },
        "outputId": "0cefe95a-75d9-4257-9daa-6a3388a82a41"
      },
      "execution_count": null,
      "outputs": [
        {
          "output_type": "stream",
          "name": "stdout",
          "text": [
            "Looking in indexes: https://pypi.org/simple, https://us-python.pkg.dev/colab-wheels/public/simple/\n",
            "Requirement already satisfied: nltk in /usr/local/lib/python3.10/dist-packages (3.8.1)\n",
            "Requirement already satisfied: regex>=2021.8.3 in /usr/local/lib/python3.10/dist-packages (from nltk) (2022.10.31)\n",
            "Requirement already satisfied: tqdm in /usr/local/lib/python3.10/dist-packages (from nltk) (4.65.0)\n",
            "Requirement already satisfied: joblib in /usr/local/lib/python3.10/dist-packages (from nltk) (1.2.0)\n",
            "Requirement already satisfied: click in /usr/local/lib/python3.10/dist-packages (from nltk) (8.1.3)\n"
          ]
        }
      ]
    },
    {
      "cell_type": "markdown",
      "source": [
        "# Instanciação de variáveis"
      ],
      "metadata": {
        "id": "l7gjkaxdy-u1"
      }
    },
    {
      "cell_type": "markdown",
      "source": [
        "NLTK é uma biblioteca utilizada em algorítmos de Processamento de Linguagem Natural. Isso permite o uso de diversos recursos, como a tokenização, por exemplo."
      ],
      "metadata": {
        "id": "bBIT7w0DrPHE"
      }
    },
    {
      "cell_type": "code",
      "source": [
        "# Instanciação de variáveis\n",
        "txt1 = \"🔥🔥\"\n",
        "txt2 = \"Papoo muito instpirador! Flávio mostrando que sucesso tb tem seus obstáculos. Conversa de milhões 👏👏👏\"\n",
        "txt3 = \"👏👏👏👏👏\"\n",
        "txt4 = \"👏👏\"\n",
        "txt5 = \"Sempre é aproveitoso parar o q tá fazendo para ouvi-lo.\"\n",
        "txt6 = \"🔥🔥🔥 Mentor!\"\n",
        "txt7 = \"🚀\"\n",
        "txt8 = \"Ótimas perguntas!👏\"\n",
        "txt9 = \"@nurodberossi_ já pensou?! 🔥\"\n",
        "txt10 = \"Estou com problemas na minha conta BTG e não estou conseguindo resolver de forma alguma, bloquearam minha conta e eu preciso do saldo que está nela, preciso de uma resposta?? @btgpactual\""
      ],
      "metadata": {
        "id": "bbxQP2q7WVnm"
      },
      "execution_count": null,
      "outputs": []
    },
    {
      "cell_type": "markdown",
      "source": [
        "As variáveis receberam os valores dos comentários da página do Instagram do BTG Pactual, exatamente como estavam escritos, para utilizar nesta atividade."
      ],
      "metadata": {
        "id": "VwXwXJ1DsuOZ"
      }
    },
    {
      "cell_type": "markdown",
      "source": [
        "# Preparação das variáveis para tratamento"
      ],
      "metadata": {
        "id": "i-HZsj2CzFi0"
      }
    },
    {
      "cell_type": "code",
      "source": [
        "# Armazenando as variáveis em uma array\n",
        "array_vars = list((txt1, txt2, txt3, txt4, txt5, txt6, txt7, txt8, txt9, txt10))\n",
        "\n",
        "# Imprimindo a array\n",
        "print(array_vars)"
      ],
      "metadata": {
        "colab": {
          "base_uri": "https://localhost:8080/"
        },
        "id": "FmxrDtSShuv5",
        "outputId": "48b64e5e-8b60-42e5-fed2-37edd2ad077e"
      },
      "execution_count": null,
      "outputs": [
        {
          "output_type": "stream",
          "name": "stdout",
          "text": [
            "['🔥🔥', 'Papoo muito instpirador! Flávio mostrando que sucesso tb tem seus obstáculos. Conversa de milhões 👏👏👏', '👏👏👏👏👏', '👏👏', 'Sempre é aproveitoso parar o q tá fazendo para ouvi-lo.', '🔥🔥🔥 Mentor!', '🚀', 'Ótimas perguntas!👏', '@brunoderossi_ já pensou?! 🔥', 'Estou com problemas na minha conta BTG e não estou conseguindo resolver de forma alguma, bloquearam minha conta e eu preciso do saldo que está nela, preciso de uma resposta?? @btgpactual']\n"
          ]
        }
      ]
    },
    {
      "cell_type": "markdown",
      "source": [
        "Aqui eu quis adicionar todos os comentários em uma array, preparando os dados a passarem todos nos mesmos tratamentos."
      ],
      "metadata": {
        "id": "T9zQShHtuLQL"
      }
    },
    {
      "cell_type": "markdown",
      "source": [
        "# Tratamento dos dados"
      ],
      "metadata": {
        "id": "H-3fYrqQzM0s"
      }
    },
    {
      "cell_type": "code",
      "source": [
        "# Loop para remover os caracteres especiais \"!\", \",\", \".\"\n",
        "for i in range(len(array_vars)):\n",
        "    array_vars[i] = array_vars[i].replace('.', '').replace(',', '').replace('!', '')\n",
        "\n",
        "# Imprimindo a lista sem os caracteres\n",
        "print(array_vars)"
      ],
      "metadata": {
        "colab": {
          "base_uri": "https://localhost:8080/"
        },
        "id": "JRRuq9AxYoCC",
        "outputId": "7e06c829-3671-4900-a51e-9824f469c42d"
      },
      "execution_count": null,
      "outputs": [
        {
          "output_type": "stream",
          "name": "stdout",
          "text": [
            "['🔥🔥', 'Papoo muito instpirador Flávio mostrando que sucesso tb tem seus obstáculos Conversa de milhões 👏👏👏', '👏👏👏👏👏', '👏👏', 'Sempre é aproveitoso parar o q tá fazendo para ouvi-lo', '🔥🔥🔥 Mentor', '🚀', 'Ótimas perguntas👏', '@brunoderossi_ já pensou? 🔥', 'Estou com problemas na minha conta BTG e não estou conseguindo resolver de forma alguma bloquearam minha conta e eu preciso do saldo que está nela preciso de uma resposta?? @btgpactual']\n"
          ]
        }
      ]
    },
    {
      "cell_type": "markdown",
      "source": [
        "Esta parte remove manualmente três caracteres especiais: \"!\", \",\", e \".\" e substitui por \" \".\n",
        "Este é um tratamento já pensando na tokenização, que ignora espaços, e iria armazená-los em um lugar na lista, mas não representam nada por si só."
      ],
      "metadata": {
        "id": "fOLwxwXDwK9V"
      }
    },
    {
      "cell_type": "code",
      "source": [
        "# Função para converter letras maiúsculas em minúsculas\n",
        "def swapUpperToLower(txtString):\n",
        "    newTxt = \"\"\n",
        "    for letter in txtString:\n",
        "        if letter >= 'A' and letter <= 'Z':\n",
        "            newTxt += chr(ord(letter) + 32)\n",
        "        else:\n",
        "            newTxt += letter\n",
        "    return newTxt\n",
        "\n",
        "# Armazenar os itens da array em uma Lista, e loop para converter as letras maiúsculas em minúsculas da Lista\n",
        "newList = []\n",
        "for i in array_vars:\n",
        "    swapped = swapUpperToLower(i)\n",
        "    newList.append(swapped)\n",
        "\n",
        "# Imprimindo a lista\n",
        "print(newList)\n"
      ],
      "metadata": {
        "colab": {
          "base_uri": "https://localhost:8080/"
        },
        "id": "QNXT_1QTioUo",
        "outputId": "cb283409-84a0-4fc5-891f-6ca5656676a6"
      },
      "execution_count": null,
      "outputs": [
        {
          "output_type": "stream",
          "name": "stdout",
          "text": [
            "['🔥🔥', 'papoo muito instpirador flávio mostrando que sucesso tb tem seus obstáculos conversa de milhões 👏👏👏', '👏👏👏👏👏', '👏👏', 'sempre é aproveitoso parar o q tá fazendo para ouvi-lo', '🔥🔥🔥 mentor', '🚀', 'Ótimas perguntas👏', '@brunoderossi_ já pensou? 🔥', 'estou com problemas na minha conta btg e não estou conseguindo resolver de forma alguma bloquearam minha conta e eu preciso do saldo que está nela preciso de uma resposta?? @btgpactual']\n"
          ]
        }
      ]
    },
    {
      "cell_type": "markdown",
      "source": [
        "Visando a padronização, este tratamento normaliza todas as letras, manualmente, em minúsculas, evitando utilizar uma mesma palavra em duas diferentes, por exemplo \"Botão\" e \"botão\", que seriam interpretadas como duas palavras diferentes."
      ],
      "metadata": {
        "id": "CApWF-_Cw4PK"
      }
    },
    {
      "cell_type": "markdown",
      "source": [
        "# Tokenização"
      ],
      "metadata": {
        "id": "nAGC-wG4zatS"
      }
    },
    {
      "cell_type": "code",
      "source": [
        "tokenizador = nltk.tokenize.WordPunctTokenizer()\n",
        "\n",
        "# Tokenizando os elementos da lista\n",
        "tokenizedList = []\n",
        "for text in newList:\n",
        "    tokens = tokenizador.tokenize(text)\n",
        "    tokenizedList.append(tokens)\n",
        "\n",
        "# Imprimindo a lista tokenizada\n",
        "print(tokenizedList)"
      ],
      "metadata": {
        "colab": {
          "base_uri": "https://localhost:8080/"
        },
        "id": "Kfa34NXIjXkL",
        "outputId": "7978ef93-d35c-41a0-8bbb-4a017a083b00"
      },
      "execution_count": null,
      "outputs": [
        {
          "output_type": "stream",
          "name": "stdout",
          "text": [
            "[['🔥🔥'], ['papoo', 'muito', 'instpirador', 'flávio', 'mostrando', 'que', 'sucesso', 'tb', 'tem', 'seus', 'obstáculos', 'conversa', 'de', 'milhões', '👏👏👏'], ['👏👏👏👏👏'], ['👏👏'], ['sempre', 'é', 'aproveitoso', 'parar', 'o', 'q', 'tá', 'fazendo', 'para', 'ouvi', '-', 'lo'], ['🔥🔥🔥', 'mentor'], ['🚀'], ['Ótimas', 'perguntas', '👏'], ['@', 'brunoderossi_', 'já', 'pensou', '?', '🔥'], ['estou', 'com', 'problemas', 'na', 'minha', 'conta', 'btg', 'e', 'não', 'estou', 'conseguindo', 'resolver', 'de', 'forma', 'alguma', 'bloquearam', 'minha', 'conta', 'e', 'eu', 'preciso', 'do', 'saldo', 'que', 'está', 'nela', 'preciso', 'de', 'uma', 'resposta', '??', '@', 'btgpactual']]\n"
          ]
        }
      ]
    },
    {
      "cell_type": "markdown",
      "source": [
        "Como último tratamento, foi realizada a tokenização dos elementos, isto é, cada palavra da Lista, que contém uma string com várias palavras teve seus elementos separados por palavras, criando assim uma lista de listas, com cada palavra e elemento especial que não foi tratado, como os emojis, separados."
      ],
      "metadata": {
        "id": "WMPprD7UxPNy"
      }
    },
    {
      "cell_type": "markdown",
      "source": [
        "# Avaliação e conclusão"
      ],
      "metadata": {
        "id": "XaOKIcTfzd-A"
      }
    },
    {
      "cell_type": "markdown",
      "source": [
        "É importante dizer que esta sequência de tratamentos não é suficiente para utilizar em um modelo, já que possui muitos elementos como emojis, pontuações, e palavras irrelevantes misturadas, que pode confundir durante a modelagem. E estes tratamentos devem ser feitos antes da tokenização."
      ],
      "metadata": {
        "id": "hx3sxe2dyVtm"
      }
    }
  ]
}